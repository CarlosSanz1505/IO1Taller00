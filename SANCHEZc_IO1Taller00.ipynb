{
  "nbformat": 4,
  "nbformat_minor": 0,
  "metadata": {
    "colab": {
      "provenance": [],
      "authorship_tag": "ABX9TyOnGhOS99chNvDcKVFmvzne",
      "include_colab_link": true
    },
    "kernelspec": {
      "name": "python3",
      "display_name": "Python 3"
    },
    "language_info": {
      "name": "python"
    }
  },
  "cells": [
    {
      "cell_type": "markdown",
      "metadata": {
        "id": "view-in-github",
        "colab_type": "text"
      },
      "source": [
        "<a href=\"https://colab.research.google.com/github/CarlosSanz1505/IO1Taller00/blob/main/SANCHEZc_IO1Taller00.ipynb\" target=\"_parent\"><img src=\"https://colab.research.google.com/assets/colab-badge.svg\" alt=\"Open In Colab\"/></a>"
      ]
    },
    {
      "cell_type": "markdown",
      "source": [
        "# Mi primera vez\n",
        "\n",
        "esto es un subtitulo"
      ],
      "metadata": {
        "id": "WLCnc9G5fizF"
      }
    },
    {
      "cell_type": "code",
      "execution_count": 3,
      "metadata": {
        "colab": {
          "base_uri": "https://localhost:8080/"
        },
        "id": "WxJmxm6VdJIt",
        "outputId": "f5b07e65-4c39-4c07-b698-419e964e5668"
      },
      "outputs": [
        {
          "output_type": "stream",
          "name": "stdout",
          "text": [
            "Hola mundo\n"
          ]
        }
      ],
      "source": [
        "print(\"Buenos dias mundo\")"
      ]
    },
    {
      "cell_type": "markdown",
      "source": [
        "# Segundo ejercicio"
      ],
      "metadata": {
        "id": "JQUge6vjeohm"
      }
    },
    {
      "cell_type": "code",
      "source": [
        "print(\"Buenos dias, Carlos\")"
      ],
      "metadata": {
        "colab": {
          "base_uri": "https://localhost:8080/"
        },
        "id": "lHb0Jy0BfLC_",
        "outputId": "e85e04fa-c6d9-41f8-8223-cebb460aa87c"
      },
      "execution_count": 2,
      "outputs": [
        {
          "output_type": "stream",
          "name": "stdout",
          "text": [
            "Hola, Carlos\n"
          ]
        }
      ]
    },
    {
      "cell_type": "markdown",
      "source": [
        "# Tercer ejercicio"
      ],
      "metadata": {
        "id": "gnMcoDEol5eY"
      }
    },
    {
      "cell_type": "code",
      "source": [
        "print(1+7)"
      ],
      "metadata": {
        "colab": {
          "base_uri": "https://localhost:8080/"
        },
        "id": "8BJzI4hMl9tJ",
        "outputId": "1ef2b2a3-9f78-42c4-a6d8-d51a64716ec5"
      },
      "execution_count": 4,
      "outputs": [
        {
          "output_type": "stream",
          "name": "stdout",
          "text": [
            "8\n"
          ]
        }
      ]
    }
  ]
}